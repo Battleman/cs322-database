{
 "cells": [
  {
   "cell_type": "code",
   "execution_count": null,
   "metadata": {
    "collapsed": true
   },
   "outputs": [],
   "source": [
    "#import pandas as pd\n",
    "#directors = pd.read_csv(\"C:/Users/maxle/Desktop/Database/DB/db2018imdb/actors.csv\")\n",
    "#chunksize = 10 ** 8\n",
    "#for chunk in pd.read_csv(filename, chunksize=chunksize):\n",
    " #   chunk.applymap(lambda x: x.replace(';',''))"
   ]
  },
  {
   "cell_type": "code",
   "execution_count": 2,
   "metadata": {
    "collapsed": true
   },
   "outputs": [],
   "source": [
    "import pandas as pd"
   ]
  },
  {
   "cell_type": "code",
   "execution_count": 6,
   "metadata": {
    "collapsed": true
   },
   "outputs": [],
   "source": [
    "#actors = pd.read_csv(\"C:/Users/Max/Documents/cs322-database/db2018imdb/actors.csv\")\n",
    "#directors = pd.read_csv(\"C:/Users/Max/Documents/cs322-database/db2018imdb/directors.csv\")\n",
    "#writers = pd.read_csv(\"C:/Users/Max/Documents/cs322-database/db2018imdb/writers.csv\")\n",
    "#producers = pd.read_csv(\"C:/Users/Max/Documents/cs322-database/db2018imdb/producers.csv\")\n",
    "\n",
    "#directors = pd.read_csv(\"C:/Users/maxle/Desktop/Database/DB/db2018imdb/directors.csv\")\n",
    "#directors = pd.read_csv(\"C:/Users/maxle/Desktop/Database/DB/db2018imdb/producers.csv\") #producers\n",
    "directors = pd.read_csv(\"C:/Users/maxle/Desktop/Database/DB/db2018imdb/actors.csv\")\n",
    "#directors = pd.read_csv(\"C:/Users/maxle/Desktop/Database/DB/db2018imdb/writers.csv\")\n",
    "#directors = pd.read_csv(\"C:/Users/maxle/Desktop/Database/Expanded/expanded_actors.csv\")"
   ]
  },
  {
   "cell_type": "code",
   "execution_count": 7,
   "metadata": {},
   "outputs": [
    {
     "data": {
      "text/html": [
       "<div>\n",
       "<style>\n",
       "    .dataframe thead tr:only-child th {\n",
       "        text-align: right;\n",
       "    }\n",
       "\n",
       "    .dataframe thead th {\n",
       "        text-align: left;\n",
       "    }\n",
       "\n",
       "    .dataframe tbody tr th {\n",
       "        vertical-align: top;\n",
       "    }\n",
       "</style>\n",
       "<table border=\"1\" class=\"dataframe\">\n",
       "  <thead>\n",
       "    <tr style=\"text-align: right;\">\n",
       "      <th></th>\n",
       "      <th>FullName</th>\n",
       "      <th>ClipIds</th>\n",
       "      <th>Chars</th>\n",
       "      <th>OrdersCredit</th>\n",
       "      <th>AddInfos</th>\n",
       "    </tr>\n",
       "  </thead>\n",
       "  <tbody>\n",
       "    <tr>\n",
       "      <th>0</th>\n",
       "      <td>$ Homo</td>\n",
       "      <td>[1057981]</td>\n",
       "      <td>[Himself]</td>\n",
       "      <td>[25]</td>\n",
       "      <td>[]</td>\n",
       "    </tr>\n",
       "    <tr>\n",
       "      <th>1</th>\n",
       "      <td>'Avacado' Wolfe David</td>\n",
       "      <td>[1469364]</td>\n",
       "      <td>[Himself]</td>\n",
       "      <td>[]</td>\n",
       "      <td>[]</td>\n",
       "    </tr>\n",
       "    <tr>\n",
       "      <th>2</th>\n",
       "      <td>'babeepower' Viera Michael</td>\n",
       "      <td>[1223831|2812626|3775221|4016759]</td>\n",
       "      <td>[Stevie|Himself|Young Leo|Various/lyricist]</td>\n",
       "      <td>[|||]</td>\n",
       "      <td>[|as Michael 'Power' Viera||]</td>\n",
       "    </tr>\n",
       "    <tr>\n",
       "      <th>3</th>\n",
       "      <td>'Bear'Boyd Steven</td>\n",
       "      <td>[1538400]</td>\n",
       "      <td>[Defensive Tackle - Washington Sentinels]</td>\n",
       "      <td>[]</td>\n",
       "      <td>[uncredited]</td>\n",
       "    </tr>\n",
       "    <tr>\n",
       "      <th>4</th>\n",
       "      <td>'Boogie' Brown Steve</td>\n",
       "      <td>[151651]</td>\n",
       "      <td>[Fishing Competitor]</td>\n",
       "      <td>[28]</td>\n",
       "      <td>[]</td>\n",
       "    </tr>\n",
       "  </tbody>\n",
       "</table>\n",
       "</div>"
      ],
      "text/plain": [
       "                     FullName                            ClipIds  \\\n",
       "0                      $ Homo                          [1057981]   \n",
       "1       'Avacado' Wolfe David                          [1469364]   \n",
       "2  'babeepower' Viera Michael  [1223831|2812626|3775221|4016759]   \n",
       "3           'Bear'Boyd Steven                          [1538400]   \n",
       "4        'Boogie' Brown Steve                           [151651]   \n",
       "\n",
       "                                         Chars OrdersCredit  \\\n",
       "0                                    [Himself]         [25]   \n",
       "1                                    [Himself]           []   \n",
       "2  [Stevie|Himself|Young Leo|Various/lyricist]        [|||]   \n",
       "3    [Defensive Tackle - Washington Sentinels]           []   \n",
       "4                         [Fishing Competitor]         [28]   \n",
       "\n",
       "                        AddInfos  \n",
       "0                             []  \n",
       "1                             []  \n",
       "2  [|as Michael 'Power' Viera||]  \n",
       "3                   [uncredited]  \n",
       "4                             []  "
      ]
     },
     "execution_count": 7,
     "metadata": {},
     "output_type": "execute_result"
    }
   ],
   "source": [
    "directors.head()"
   ]
  },
  {
   "cell_type": "code",
   "execution_count": 8,
   "metadata": {},
   "outputs": [
    {
     "data": {
      "text/html": [
       "<div>\n",
       "<style>\n",
       "    .dataframe thead tr:only-child th {\n",
       "        text-align: right;\n",
       "    }\n",
       "\n",
       "    .dataframe thead th {\n",
       "        text-align: left;\n",
       "    }\n",
       "\n",
       "    .dataframe tbody tr th {\n",
       "        vertical-align: top;\n",
       "    }\n",
       "</style>\n",
       "<table border=\"1\" class=\"dataframe\">\n",
       "  <thead>\n",
       "    <tr style=\"text-align: right;\">\n",
       "      <th></th>\n",
       "      <th>FullName</th>\n",
       "      <th>ClipIds</th>\n",
       "      <th>Chars</th>\n",
       "      <th>OrdersCredit</th>\n",
       "      <th>AddInfos</th>\n",
       "    </tr>\n",
       "  </thead>\n",
       "  <tbody>\n",
       "    <tr>\n",
       "      <th>0</th>\n",
       "      <td>$ Homo</td>\n",
       "      <td>1057981</td>\n",
       "      <td>Himself</td>\n",
       "      <td>25</td>\n",
       "      <td></td>\n",
       "    </tr>\n",
       "    <tr>\n",
       "      <th>1</th>\n",
       "      <td>'Avacado' Wolfe David</td>\n",
       "      <td>1469364</td>\n",
       "      <td>Himself</td>\n",
       "      <td></td>\n",
       "      <td></td>\n",
       "    </tr>\n",
       "    <tr>\n",
       "      <th>2</th>\n",
       "      <td>'babeepower' Viera Michael</td>\n",
       "      <td>1223831|2812626|3775221|4016759</td>\n",
       "      <td>Stevie|Himself|Young Leo|Various/lyricist</td>\n",
       "      <td>|||</td>\n",
       "      <td>|as Michael 'Power' Viera||</td>\n",
       "    </tr>\n",
       "    <tr>\n",
       "      <th>3</th>\n",
       "      <td>'Bear'Boyd Steven</td>\n",
       "      <td>1538400</td>\n",
       "      <td>Defensive Tackle - Washington Sentinels</td>\n",
       "      <td></td>\n",
       "      <td>uncredited</td>\n",
       "    </tr>\n",
       "    <tr>\n",
       "      <th>4</th>\n",
       "      <td>'Boogie' Brown Steve</td>\n",
       "      <td>151651</td>\n",
       "      <td>Fishing Competitor</td>\n",
       "      <td>28</td>\n",
       "      <td></td>\n",
       "    </tr>\n",
       "  </tbody>\n",
       "</table>\n",
       "</div>"
      ],
      "text/plain": [
       "                     FullName                          ClipIds  \\\n",
       "0                      $ Homo                          1057981   \n",
       "1       'Avacado' Wolfe David                          1469364   \n",
       "2  'babeepower' Viera Michael  1223831|2812626|3775221|4016759   \n",
       "3           'Bear'Boyd Steven                          1538400   \n",
       "4        'Boogie' Brown Steve                           151651   \n",
       "\n",
       "                                       Chars OrdersCredit  \\\n",
       "0                                    Himself           25   \n",
       "1                                    Himself                \n",
       "2  Stevie|Himself|Young Leo|Various/lyricist          |||   \n",
       "3    Defensive Tackle - Washington Sentinels                \n",
       "4                         Fishing Competitor           28   \n",
       "\n",
       "                      AddInfos  \n",
       "0                               \n",
       "1                               \n",
       "2  |as Michael 'Power' Viera||  \n",
       "3                   uncredited  \n",
       "4                               "
      ]
     },
     "execution_count": 8,
     "metadata": {},
     "output_type": "execute_result"
    }
   ],
   "source": [
    "directors = directors.applymap(lambda x: x.replace('[',''))\n",
    "directors = directors.applymap(lambda x: x.replace(']',''))\n",
    "directors.head()"
   ]
  },
  {
   "cell_type": "code",
   "execution_count": 9,
   "metadata": {},
   "outputs": [
    {
     "data": {
      "text/html": [
       "<div>\n",
       "<style>\n",
       "    .dataframe thead tr:only-child th {\n",
       "        text-align: right;\n",
       "    }\n",
       "\n",
       "    .dataframe thead th {\n",
       "        text-align: left;\n",
       "    }\n",
       "\n",
       "    .dataframe tbody tr th {\n",
       "        vertical-align: top;\n",
       "    }\n",
       "</style>\n",
       "<table border=\"1\" class=\"dataframe\">\n",
       "  <thead>\n",
       "    <tr style=\"text-align: right;\">\n",
       "      <th></th>\n",
       "      <th>FullName</th>\n",
       "      <th>ClipIds</th>\n",
       "      <th>Chars</th>\n",
       "      <th>OrdersCredit</th>\n",
       "      <th>AddInfos</th>\n",
       "    </tr>\n",
       "  </thead>\n",
       "  <tbody>\n",
       "    <tr>\n",
       "      <th>0</th>\n",
       "      <td>[$ Homo]</td>\n",
       "      <td>[1057981]</td>\n",
       "      <td>[Himself]</td>\n",
       "      <td>[25]</td>\n",
       "      <td>[]</td>\n",
       "    </tr>\n",
       "    <tr>\n",
       "      <th>1</th>\n",
       "      <td>['Avacado' Wolfe David]</td>\n",
       "      <td>[1469364]</td>\n",
       "      <td>[Himself]</td>\n",
       "      <td>[]</td>\n",
       "      <td>[]</td>\n",
       "    </tr>\n",
       "    <tr>\n",
       "      <th>2</th>\n",
       "      <td>['babeepower' Viera Michael]</td>\n",
       "      <td>[1223831, 2812626, 3775221, 4016759]</td>\n",
       "      <td>[Stevie, Himself, Young Leo, Various/lyricist]</td>\n",
       "      <td>[, , , ]</td>\n",
       "      <td>[, as Michael 'Power' Viera, , ]</td>\n",
       "    </tr>\n",
       "    <tr>\n",
       "      <th>3</th>\n",
       "      <td>['Bear'Boyd Steven]</td>\n",
       "      <td>[1538400]</td>\n",
       "      <td>[Defensive Tackle - Washington Sentinels]</td>\n",
       "      <td>[]</td>\n",
       "      <td>[uncredited]</td>\n",
       "    </tr>\n",
       "    <tr>\n",
       "      <th>4</th>\n",
       "      <td>['Boogie' Brown Steve]</td>\n",
       "      <td>[151651]</td>\n",
       "      <td>[Fishing Competitor]</td>\n",
       "      <td>[28]</td>\n",
       "      <td>[]</td>\n",
       "    </tr>\n",
       "  </tbody>\n",
       "</table>\n",
       "</div>"
      ],
      "text/plain": [
       "                       FullName                               ClipIds  \\\n",
       "0                      [$ Homo]                             [1057981]   \n",
       "1       ['Avacado' Wolfe David]                             [1469364]   \n",
       "2  ['babeepower' Viera Michael]  [1223831, 2812626, 3775221, 4016759]   \n",
       "3           ['Bear'Boyd Steven]                             [1538400]   \n",
       "4        ['Boogie' Brown Steve]                              [151651]   \n",
       "\n",
       "                                            Chars OrdersCredit  \\\n",
       "0                                       [Himself]         [25]   \n",
       "1                                       [Himself]           []   \n",
       "2  [Stevie, Himself, Young Leo, Various/lyricist]     [, , , ]   \n",
       "3       [Defensive Tackle - Washington Sentinels]           []   \n",
       "4                            [Fishing Competitor]         [28]   \n",
       "\n",
       "                           AddInfos  \n",
       "0                                []  \n",
       "1                                []  \n",
       "2  [, as Michael 'Power' Viera, , ]  \n",
       "3                      [uncredited]  \n",
       "4                                []  "
      ]
     },
     "execution_count": 9,
     "metadata": {},
     "output_type": "execute_result"
    }
   ],
   "source": [
    "directors = directors.applymap(lambda x: x.split('|'))\n",
    "directors.head()"
   ]
  },
  {
   "cell_type": "code",
   "execution_count": 11,
   "metadata": {},
   "outputs": [
    {
     "name": "stdout",
     "output_type": "stream",
     "text": [
      "Wall time: 47 ms\n"
     ]
    }
   ],
   "source": [
    "%%time\n",
    "new_dir = []\n",
    "for index, row in directors.iterrows() :\n",
    "    for i in range(len(row['ClipIds'])) :\n",
    "        #new_dir.append((row['FullName'][0], row['ClipIds'][i], row['Roles'][i], row['AddInfos'][i]))\n",
    "        new_dir.append((row['FullName'][0], row['ClipIds'][i], row['Chars'][i], row['OrdersCredit'][i], row['AddInfos'][i]))\n",
    "        #new_dir.append((row['FullName'][0], row['ClipIds'][i], row['WorkTypes'][i], row['Roles'][i], row['AddInfos'][i]))\n",
    "        \n",
    "        #new_dir.append({'FullName' : row['FullName'][0], 'ClipId' : row['ClipIds'][i], 'Role' : row['Roles'][i],'AddInfos' : row['AddInfos'][i]})\n",
    "        #print(row['FullName'][0], row['ClipIds'][i], row['Roles'][i], row['AddInfos'][i])\n",
    "        \n",
    "#dirs = pd.DataFrame(new_dir, columns = ['FullName', 'ClipId', 'Role', 'AddInfos'] )\n",
    "dirs = pd.DataFrame(new_dir, columns = ['FullName', 'ClipId', 'Char', 'OrderCredit', 'AddInfos'] )\n",
    "#dirs = pd.DataFrame(new_dir, columns = ['FullName', 'ClipId', 'WorkType', 'Role', 'AddInfos'] )"
   ]
  },
  {
   "cell_type": "code",
   "execution_count": 12,
   "metadata": {
    "collapsed": true
   },
   "outputs": [],
   "source": [
    "#dirs.to_csv(\"expanded_directors.csv\", index=False)\n",
    "dirs.to_csv(\"test_actors.csv\", index=False)"
   ]
  }
 ],
 "metadata": {
  "kernelspec": {
   "display_name": "Python 3",
   "language": "python",
   "name": "python3"
  },
  "language_info": {
   "codemirror_mode": {
    "name": "ipython",
    "version": 3
   },
   "file_extension": ".py",
   "mimetype": "text/x-python",
   "name": "python",
   "nbconvert_exporter": "python",
   "pygments_lexer": "ipython3",
   "version": "3.6.1"
  }
 },
 "nbformat": 4,
 "nbformat_minor": 2
}
