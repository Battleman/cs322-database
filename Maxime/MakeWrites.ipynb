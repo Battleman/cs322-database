{
 "cells": [
  {
   "cell_type": "code",
   "execution_count": 1,
   "metadata": {
    "collapsed": true
   },
   "outputs": [],
   "source": [
    "import pandas as pd"
   ]
  },
  {
   "cell_type": "code",
   "execution_count": 17,
   "metadata": {
    "collapsed": true
   },
   "outputs": [],
   "source": [
    "file = pd.read_csv(\"C:/Users/maxle/Desktop/Database/Milestone3/expanded_writers.csv\")"
   ]
  },
  {
   "cell_type": "code",
   "execution_count": 18,
   "metadata": {},
   "outputs": [
    {
     "data": {
      "text/html": [
       "<div>\n",
       "<style>\n",
       "    .dataframe thead tr:only-child th {\n",
       "        text-align: right;\n",
       "    }\n",
       "\n",
       "    .dataframe thead th {\n",
       "        text-align: left;\n",
       "    }\n",
       "\n",
       "    .dataframe tbody tr th {\n",
       "        vertical-align: top;\n",
       "    }\n",
       "</style>\n",
       "<table border=\"1\" class=\"dataframe\">\n",
       "  <thead>\n",
       "    <tr style=\"text-align: right;\">\n",
       "      <th></th>\n",
       "      <th>FullName</th>\n",
       "      <th>ClipId</th>\n",
       "      <th>Role</th>\n",
       "      <th>AddInfos</th>\n",
       "      <th>WorkType</th>\n",
       "    </tr>\n",
       "  </thead>\n",
       "  <tbody>\n",
       "    <tr>\n",
       "      <th>0</th>\n",
       "      <td>'Abd Al-Hamid Ja'far</td>\n",
       "      <td>51264</td>\n",
       "      <td>NaN</td>\n",
       "      <td>written for the screen by</td>\n",
       "      <td>NaN</td>\n",
       "    </tr>\n",
       "    <tr>\n",
       "      <th>1</th>\n",
       "      <td>'Abd Al-Hamid Ja'far</td>\n",
       "      <td>742507</td>\n",
       "      <td>writer</td>\n",
       "      <td>NaN</td>\n",
       "      <td>NaN</td>\n",
       "    </tr>\n",
       "    <tr>\n",
       "      <th>2</th>\n",
       "      <td>'Abd Al-Hamid Ja'far</td>\n",
       "      <td>960777</td>\n",
       "      <td>written by</td>\n",
       "      <td>NaN</td>\n",
       "      <td>NaN</td>\n",
       "    </tr>\n",
       "    <tr>\n",
       "      <th>3</th>\n",
       "      <td>'babeepower' Viera Michael</td>\n",
       "      <td>4016759</td>\n",
       "      <td>NaN</td>\n",
       "      <td>2000</td>\n",
       "      <td>NaN</td>\n",
       "    </tr>\n",
       "    <tr>\n",
       "      <th>4</th>\n",
       "      <td>'t Hart Maarten</td>\n",
       "      <td>338267</td>\n",
       "      <td>NaN</td>\n",
       "      <td>novel \"Die Sonnenuhr\"</td>\n",
       "      <td>NaN</td>\n",
       "    </tr>\n",
       "  </tbody>\n",
       "</table>\n",
       "</div>"
      ],
      "text/plain": [
       "                     FullName   ClipId        Role                   AddInfos  \\\n",
       "0        'Abd Al-Hamid Ja'far    51264         NaN  written for the screen by   \n",
       "1        'Abd Al-Hamid Ja'far   742507      writer                        NaN   \n",
       "2        'Abd Al-Hamid Ja'far   960777  written by                        NaN   \n",
       "3  'babeepower' Viera Michael  4016759         NaN                       2000   \n",
       "4             't Hart Maarten   338267         NaN      novel \"Die Sonnenuhr\"   \n",
       "\n",
       "  WorkType  \n",
       "0      NaN  \n",
       "1      NaN  \n",
       "2      NaN  \n",
       "3      NaN  \n",
       "4      NaN  "
      ]
     },
     "execution_count": 18,
     "metadata": {},
     "output_type": "execute_result"
    }
   ],
   "source": [
    "file.head()"
   ]
  },
  {
   "cell_type": "code",
   "execution_count": 19,
   "metadata": {
    "collapsed": true
   },
   "outputs": [],
   "source": [
    "ids = pd.read_pickle(\"C:/Users/maxle/Desktop/Database/Milestone3/namesDictionnary.pkl\")"
   ]
  },
  {
   "cell_type": "code",
   "execution_count": 20,
   "metadata": {
    "collapsed": true
   },
   "outputs": [],
   "source": [
    "file['personid'] = file['FullName'].map(ids)"
   ]
  },
  {
   "cell_type": "code",
   "execution_count": 21,
   "metadata": {},
   "outputs": [
    {
     "data": {
      "text/html": [
       "<div>\n",
       "<style>\n",
       "    .dataframe thead tr:only-child th {\n",
       "        text-align: right;\n",
       "    }\n",
       "\n",
       "    .dataframe thead th {\n",
       "        text-align: left;\n",
       "    }\n",
       "\n",
       "    .dataframe tbody tr th {\n",
       "        vertical-align: top;\n",
       "    }\n",
       "</style>\n",
       "<table border=\"1\" class=\"dataframe\">\n",
       "  <thead>\n",
       "    <tr style=\"text-align: right;\">\n",
       "      <th></th>\n",
       "      <th>FullName</th>\n",
       "      <th>ClipId</th>\n",
       "      <th>Role</th>\n",
       "      <th>AddInfos</th>\n",
       "      <th>WorkType</th>\n",
       "      <th>personid</th>\n",
       "    </tr>\n",
       "  </thead>\n",
       "  <tbody>\n",
       "    <tr>\n",
       "      <th>0</th>\n",
       "      <td>'Abd Al-Hamid Ja'far</td>\n",
       "      <td>51264</td>\n",
       "      <td>NaN</td>\n",
       "      <td>written for the screen by</td>\n",
       "      <td>NaN</td>\n",
       "      <td>3</td>\n",
       "    </tr>\n",
       "    <tr>\n",
       "      <th>1</th>\n",
       "      <td>'Abd Al-Hamid Ja'far</td>\n",
       "      <td>742507</td>\n",
       "      <td>writer</td>\n",
       "      <td>NaN</td>\n",
       "      <td>NaN</td>\n",
       "      <td>3</td>\n",
       "    </tr>\n",
       "    <tr>\n",
       "      <th>2</th>\n",
       "      <td>'Abd Al-Hamid Ja'far</td>\n",
       "      <td>960777</td>\n",
       "      <td>written by</td>\n",
       "      <td>NaN</td>\n",
       "      <td>NaN</td>\n",
       "      <td>3</td>\n",
       "    </tr>\n",
       "    <tr>\n",
       "      <th>3</th>\n",
       "      <td>'babeepower' Viera Michael</td>\n",
       "      <td>4016759</td>\n",
       "      <td>NaN</td>\n",
       "      <td>2000</td>\n",
       "      <td>NaN</td>\n",
       "      <td>56</td>\n",
       "    </tr>\n",
       "    <tr>\n",
       "      <th>4</th>\n",
       "      <td>'t Hart Maarten</td>\n",
       "      <td>338267</td>\n",
       "      <td>NaN</td>\n",
       "      <td>novel \"Die Sonnenuhr\"</td>\n",
       "      <td>NaN</td>\n",
       "      <td>61</td>\n",
       "    </tr>\n",
       "  </tbody>\n",
       "</table>\n",
       "</div>"
      ],
      "text/plain": [
       "                     FullName   ClipId        Role                   AddInfos  \\\n",
       "0        'Abd Al-Hamid Ja'far    51264         NaN  written for the screen by   \n",
       "1        'Abd Al-Hamid Ja'far   742507      writer                        NaN   \n",
       "2        'Abd Al-Hamid Ja'far   960777  written by                        NaN   \n",
       "3  'babeepower' Viera Michael  4016759         NaN                       2000   \n",
       "4             't Hart Maarten   338267         NaN      novel \"Die Sonnenuhr\"   \n",
       "\n",
       "  WorkType  personid  \n",
       "0      NaN         3  \n",
       "1      NaN         3  \n",
       "2      NaN         3  \n",
       "3      NaN        56  \n",
       "4      NaN        61  "
      ]
     },
     "execution_count": 21,
     "metadata": {},
     "output_type": "execute_result"
    }
   ],
   "source": [
    "file.head()"
   ]
  },
  {
   "cell_type": "code",
   "execution_count": 22,
   "metadata": {},
   "outputs": [
    {
     "data": {
      "text/html": [
       "<div>\n",
       "<style>\n",
       "    .dataframe thead tr:only-child th {\n",
       "        text-align: right;\n",
       "    }\n",
       "\n",
       "    .dataframe thead th {\n",
       "        text-align: left;\n",
       "    }\n",
       "\n",
       "    .dataframe tbody tr th {\n",
       "        vertical-align: top;\n",
       "    }\n",
       "</style>\n",
       "<table border=\"1\" class=\"dataframe\">\n",
       "  <thead>\n",
       "    <tr style=\"text-align: right;\">\n",
       "      <th></th>\n",
       "      <th>FullName</th>\n",
       "      <th>ClipId</th>\n",
       "      <th>Role</th>\n",
       "      <th>AddInfos</th>\n",
       "      <th>WorkType</th>\n",
       "      <th>personid</th>\n",
       "    </tr>\n",
       "  </thead>\n",
       "  <tbody>\n",
       "  </tbody>\n",
       "</table>\n",
       "</div>"
      ],
      "text/plain": [
       "Empty DataFrame\n",
       "Columns: [FullName, ClipId, Role, AddInfos, WorkType, personid]\n",
       "Index: []"
      ]
     },
     "execution_count": 22,
     "metadata": {},
     "output_type": "execute_result"
    }
   ],
   "source": [
    "file[file['personid'].isnull()]"
   ]
  },
  {
   "cell_type": "code",
   "execution_count": 23,
   "metadata": {},
   "outputs": [
    {
     "data": {
      "text/plain": [
       "(2002740, 6)"
      ]
     },
     "execution_count": 23,
     "metadata": {},
     "output_type": "execute_result"
    }
   ],
   "source": [
    "file.shape"
   ]
  },
  {
   "cell_type": "code",
   "execution_count": 24,
   "metadata": {},
   "outputs": [
    {
     "data": {
      "text/plain": [
       "(2002740, 6)"
      ]
     },
     "execution_count": 24,
     "metadata": {},
     "output_type": "execute_result"
    }
   ],
   "source": [
    "file = file.dropna(subset = ['personid'])\n",
    "file.shape"
   ]
  },
  {
   "cell_type": "code",
   "execution_count": 25,
   "metadata": {
    "collapsed": true
   },
   "outputs": [],
   "source": [
    "#file['personid'] = file['personid'].map(int)"
   ]
  },
  {
   "cell_type": "code",
   "execution_count": 26,
   "metadata": {
    "collapsed": true
   },
   "outputs": [],
   "source": [
    "file['writesroleid'] = file.index"
   ]
  },
  {
   "cell_type": "code",
   "execution_count": 27,
   "metadata": {},
   "outputs": [
    {
     "data": {
      "text/html": [
       "<div>\n",
       "<style>\n",
       "    .dataframe thead tr:only-child th {\n",
       "        text-align: right;\n",
       "    }\n",
       "\n",
       "    .dataframe thead th {\n",
       "        text-align: left;\n",
       "    }\n",
       "\n",
       "    .dataframe tbody tr th {\n",
       "        vertical-align: top;\n",
       "    }\n",
       "</style>\n",
       "<table border=\"1\" class=\"dataframe\">\n",
       "  <thead>\n",
       "    <tr style=\"text-align: right;\">\n",
       "      <th></th>\n",
       "      <th>FullName</th>\n",
       "      <th>ClipId</th>\n",
       "      <th>Role</th>\n",
       "      <th>AddInfos</th>\n",
       "      <th>WorkType</th>\n",
       "      <th>personid</th>\n",
       "      <th>writesroleid</th>\n",
       "    </tr>\n",
       "  </thead>\n",
       "  <tbody>\n",
       "    <tr>\n",
       "      <th>0</th>\n",
       "      <td>'Abd Al-Hamid Ja'far</td>\n",
       "      <td>51264</td>\n",
       "      <td>NaN</td>\n",
       "      <td>written for the screen by</td>\n",
       "      <td>NaN</td>\n",
       "      <td>3</td>\n",
       "      <td>0</td>\n",
       "    </tr>\n",
       "    <tr>\n",
       "      <th>1</th>\n",
       "      <td>'Abd Al-Hamid Ja'far</td>\n",
       "      <td>742507</td>\n",
       "      <td>writer</td>\n",
       "      <td>NaN</td>\n",
       "      <td>NaN</td>\n",
       "      <td>3</td>\n",
       "      <td>1</td>\n",
       "    </tr>\n",
       "    <tr>\n",
       "      <th>2</th>\n",
       "      <td>'Abd Al-Hamid Ja'far</td>\n",
       "      <td>960777</td>\n",
       "      <td>written by</td>\n",
       "      <td>NaN</td>\n",
       "      <td>NaN</td>\n",
       "      <td>3</td>\n",
       "      <td>2</td>\n",
       "    </tr>\n",
       "    <tr>\n",
       "      <th>3</th>\n",
       "      <td>'babeepower' Viera Michael</td>\n",
       "      <td>4016759</td>\n",
       "      <td>NaN</td>\n",
       "      <td>2000</td>\n",
       "      <td>NaN</td>\n",
       "      <td>56</td>\n",
       "      <td>3</td>\n",
       "    </tr>\n",
       "    <tr>\n",
       "      <th>4</th>\n",
       "      <td>'t Hart Maarten</td>\n",
       "      <td>338267</td>\n",
       "      <td>NaN</td>\n",
       "      <td>novel \"Die Sonnenuhr\"</td>\n",
       "      <td>NaN</td>\n",
       "      <td>61</td>\n",
       "      <td>4</td>\n",
       "    </tr>\n",
       "  </tbody>\n",
       "</table>\n",
       "</div>"
      ],
      "text/plain": [
       "                     FullName   ClipId        Role                   AddInfos  \\\n",
       "0        'Abd Al-Hamid Ja'far    51264         NaN  written for the screen by   \n",
       "1        'Abd Al-Hamid Ja'far   742507      writer                        NaN   \n",
       "2        'Abd Al-Hamid Ja'far   960777  written by                        NaN   \n",
       "3  'babeepower' Viera Michael  4016759         NaN                       2000   \n",
       "4             't Hart Maarten   338267         NaN      novel \"Die Sonnenuhr\"   \n",
       "\n",
       "  WorkType  personid  writesroleid  \n",
       "0      NaN         3             0  \n",
       "1      NaN         3             1  \n",
       "2      NaN         3             2  \n",
       "3      NaN        56             3  \n",
       "4      NaN        61             4  "
      ]
     },
     "execution_count": 27,
     "metadata": {},
     "output_type": "execute_result"
    }
   ],
   "source": [
    "file.head()"
   ]
  },
  {
   "cell_type": "code",
   "execution_count": 28,
   "metadata": {},
   "outputs": [
    {
     "data": {
      "text/html": [
       "<div>\n",
       "<style>\n",
       "    .dataframe thead tr:only-child th {\n",
       "        text-align: right;\n",
       "    }\n",
       "\n",
       "    .dataframe thead th {\n",
       "        text-align: left;\n",
       "    }\n",
       "\n",
       "    .dataframe tbody tr th {\n",
       "        vertical-align: top;\n",
       "    }\n",
       "</style>\n",
       "<table border=\"1\" class=\"dataframe\">\n",
       "  <thead>\n",
       "    <tr style=\"text-align: right;\">\n",
       "      <th></th>\n",
       "      <th>fullname</th>\n",
       "      <th>clipid</th>\n",
       "      <th>role</th>\n",
       "      <th>addinfo</th>\n",
       "      <th>worktype</th>\n",
       "      <th>personid</th>\n",
       "      <th>writesroleid</th>\n",
       "    </tr>\n",
       "  </thead>\n",
       "  <tbody>\n",
       "    <tr>\n",
       "      <th>0</th>\n",
       "      <td>'Abd Al-Hamid Ja'far</td>\n",
       "      <td>51264</td>\n",
       "      <td>NaN</td>\n",
       "      <td>written for the screen by</td>\n",
       "      <td>NaN</td>\n",
       "      <td>3</td>\n",
       "      <td>0</td>\n",
       "    </tr>\n",
       "    <tr>\n",
       "      <th>1</th>\n",
       "      <td>'Abd Al-Hamid Ja'far</td>\n",
       "      <td>742507</td>\n",
       "      <td>writer</td>\n",
       "      <td>NaN</td>\n",
       "      <td>NaN</td>\n",
       "      <td>3</td>\n",
       "      <td>1</td>\n",
       "    </tr>\n",
       "    <tr>\n",
       "      <th>2</th>\n",
       "      <td>'Abd Al-Hamid Ja'far</td>\n",
       "      <td>960777</td>\n",
       "      <td>written by</td>\n",
       "      <td>NaN</td>\n",
       "      <td>NaN</td>\n",
       "      <td>3</td>\n",
       "      <td>2</td>\n",
       "    </tr>\n",
       "    <tr>\n",
       "      <th>3</th>\n",
       "      <td>'babeepower' Viera Michael</td>\n",
       "      <td>4016759</td>\n",
       "      <td>NaN</td>\n",
       "      <td>2000</td>\n",
       "      <td>NaN</td>\n",
       "      <td>56</td>\n",
       "      <td>3</td>\n",
       "    </tr>\n",
       "    <tr>\n",
       "      <th>4</th>\n",
       "      <td>'t Hart Maarten</td>\n",
       "      <td>338267</td>\n",
       "      <td>NaN</td>\n",
       "      <td>novel \"Die Sonnenuhr\"</td>\n",
       "      <td>NaN</td>\n",
       "      <td>61</td>\n",
       "      <td>4</td>\n",
       "    </tr>\n",
       "  </tbody>\n",
       "</table>\n",
       "</div>"
      ],
      "text/plain": [
       "                     fullname   clipid        role                    addinfo  \\\n",
       "0        'Abd Al-Hamid Ja'far    51264         NaN  written for the screen by   \n",
       "1        'Abd Al-Hamid Ja'far   742507      writer                        NaN   \n",
       "2        'Abd Al-Hamid Ja'far   960777  written by                        NaN   \n",
       "3  'babeepower' Viera Michael  4016759         NaN                       2000   \n",
       "4             't Hart Maarten   338267         NaN      novel \"Die Sonnenuhr\"   \n",
       "\n",
       "  worktype  personid  writesroleid  \n",
       "0      NaN         3             0  \n",
       "1      NaN         3             1  \n",
       "2      NaN         3             2  \n",
       "3      NaN        56             3  \n",
       "4      NaN        61             4  "
      ]
     },
     "execution_count": 28,
     "metadata": {},
     "output_type": "execute_result"
    }
   ],
   "source": [
    "file.columns = ['fullname','clipid', 'role', 'addinfo', 'worktype', 'personid', 'writesroleid']\n",
    "file.head()"
   ]
  },
  {
   "cell_type": "code",
   "execution_count": 29,
   "metadata": {},
   "outputs": [
    {
     "data": {
      "text/html": [
       "<div>\n",
       "<style>\n",
       "    .dataframe thead tr:only-child th {\n",
       "        text-align: right;\n",
       "    }\n",
       "\n",
       "    .dataframe thead th {\n",
       "        text-align: left;\n",
       "    }\n",
       "\n",
       "    .dataframe tbody tr th {\n",
       "        vertical-align: top;\n",
       "    }\n",
       "</style>\n",
       "<table border=\"1\" class=\"dataframe\">\n",
       "  <thead>\n",
       "    <tr style=\"text-align: right;\">\n",
       "      <th></th>\n",
       "      <th>fullname</th>\n",
       "      <th>clipid</th>\n",
       "      <th>role</th>\n",
       "      <th>addinfo</th>\n",
       "      <th>worktype</th>\n",
       "      <th>personid</th>\n",
       "      <th>writesroleid</th>\n",
       "    </tr>\n",
       "  </thead>\n",
       "  <tbody>\n",
       "    <tr>\n",
       "      <th>0</th>\n",
       "      <td>'Abd Al-Hamid Ja'far</td>\n",
       "      <td>51264</td>\n",
       "      <td>unknown</td>\n",
       "      <td>written for the screen by</td>\n",
       "      <td>unknown</td>\n",
       "      <td>3</td>\n",
       "      <td>0</td>\n",
       "    </tr>\n",
       "    <tr>\n",
       "      <th>1</th>\n",
       "      <td>'Abd Al-Hamid Ja'far</td>\n",
       "      <td>742507</td>\n",
       "      <td>writer</td>\n",
       "      <td></td>\n",
       "      <td>unknown</td>\n",
       "      <td>3</td>\n",
       "      <td>1</td>\n",
       "    </tr>\n",
       "    <tr>\n",
       "      <th>2</th>\n",
       "      <td>'Abd Al-Hamid Ja'far</td>\n",
       "      <td>960777</td>\n",
       "      <td>written by</td>\n",
       "      <td></td>\n",
       "      <td>unknown</td>\n",
       "      <td>3</td>\n",
       "      <td>2</td>\n",
       "    </tr>\n",
       "    <tr>\n",
       "      <th>3</th>\n",
       "      <td>'babeepower' Viera Michael</td>\n",
       "      <td>4016759</td>\n",
       "      <td>unknown</td>\n",
       "      <td>2000</td>\n",
       "      <td>unknown</td>\n",
       "      <td>56</td>\n",
       "      <td>3</td>\n",
       "    </tr>\n",
       "    <tr>\n",
       "      <th>4</th>\n",
       "      <td>'t Hart Maarten</td>\n",
       "      <td>338267</td>\n",
       "      <td>unknown</td>\n",
       "      <td>novel \"Die Sonnenuhr\"</td>\n",
       "      <td>unknown</td>\n",
       "      <td>61</td>\n",
       "      <td>4</td>\n",
       "    </tr>\n",
       "  </tbody>\n",
       "</table>\n",
       "</div>"
      ],
      "text/plain": [
       "                     fullname   clipid        role                    addinfo  \\\n",
       "0        'Abd Al-Hamid Ja'far    51264     unknown  written for the screen by   \n",
       "1        'Abd Al-Hamid Ja'far   742507      writer                              \n",
       "2        'Abd Al-Hamid Ja'far   960777  written by                              \n",
       "3  'babeepower' Viera Michael  4016759     unknown                       2000   \n",
       "4             't Hart Maarten   338267     unknown      novel \"Die Sonnenuhr\"   \n",
       "\n",
       "  worktype  personid  writesroleid  \n",
       "0  unknown         3             0  \n",
       "1  unknown         3             1  \n",
       "2  unknown         3             2  \n",
       "3  unknown        56             3  \n",
       "4  unknown        61             4  "
      ]
     },
     "execution_count": 29,
     "metadata": {},
     "output_type": "execute_result"
    }
   ],
   "source": [
    "file['role'] = file['role'].fillna('unknown')\n",
    "file['worktype'] = file['worktype'].fillna('unknown')\n",
    "file['addinfo'] = file['addinfo'].fillna('')\n",
    "file.head()"
   ]
  },
  {
   "cell_type": "code",
   "execution_count": 30,
   "metadata": {},
   "outputs": [
    {
     "data": {
      "text/html": [
       "<div>\n",
       "<style>\n",
       "    .dataframe thead tr:only-child th {\n",
       "        text-align: right;\n",
       "    }\n",
       "\n",
       "    .dataframe thead th {\n",
       "        text-align: left;\n",
       "    }\n",
       "\n",
       "    .dataframe tbody tr th {\n",
       "        vertical-align: top;\n",
       "    }\n",
       "</style>\n",
       "<table border=\"1\" class=\"dataframe\">\n",
       "  <thead>\n",
       "    <tr style=\"text-align: right;\">\n",
       "      <th></th>\n",
       "      <th>writesroleid</th>\n",
       "      <th>role</th>\n",
       "      <th>worktype</th>\n",
       "      <th>addinfo</th>\n",
       "    </tr>\n",
       "  </thead>\n",
       "  <tbody>\n",
       "    <tr>\n",
       "      <th>0</th>\n",
       "      <td>0</td>\n",
       "      <td>unknown</td>\n",
       "      <td>unknown</td>\n",
       "      <td>written for the screen by</td>\n",
       "    </tr>\n",
       "    <tr>\n",
       "      <th>1</th>\n",
       "      <td>1</td>\n",
       "      <td>writer</td>\n",
       "      <td>unknown</td>\n",
       "      <td></td>\n",
       "    </tr>\n",
       "    <tr>\n",
       "      <th>2</th>\n",
       "      <td>2</td>\n",
       "      <td>written by</td>\n",
       "      <td>unknown</td>\n",
       "      <td></td>\n",
       "    </tr>\n",
       "    <tr>\n",
       "      <th>3</th>\n",
       "      <td>3</td>\n",
       "      <td>unknown</td>\n",
       "      <td>unknown</td>\n",
       "      <td>2000</td>\n",
       "    </tr>\n",
       "    <tr>\n",
       "      <th>4</th>\n",
       "      <td>4</td>\n",
       "      <td>unknown</td>\n",
       "      <td>unknown</td>\n",
       "      <td>novel \"Die Sonnenuhr\"</td>\n",
       "    </tr>\n",
       "  </tbody>\n",
       "</table>\n",
       "</div>"
      ],
      "text/plain": [
       "   writesroleid        role worktype                    addinfo\n",
       "0             0     unknown  unknown  written for the screen by\n",
       "1             1      writer  unknown                           \n",
       "2             2  written by  unknown                           \n",
       "3             3     unknown  unknown                       2000\n",
       "4             4     unknown  unknown      novel \"Die Sonnenuhr\""
      ]
     },
     "execution_count": 30,
     "metadata": {},
     "output_type": "execute_result"
    }
   ],
   "source": [
    "file2 = file[['writesroleid', 'role', 'worktype', 'addinfo']].copy()\n",
    "file2.head()"
   ]
  },
  {
   "cell_type": "code",
   "execution_count": 31,
   "metadata": {
    "collapsed": true
   },
   "outputs": [],
   "source": [
    "file2.to_csv(\"writesroles.csv\", index=False, encoding='utf-8')"
   ]
  },
  {
   "cell_type": "code",
   "execution_count": 32,
   "metadata": {},
   "outputs": [
    {
     "data": {
      "text/html": [
       "<div>\n",
       "<style>\n",
       "    .dataframe thead tr:only-child th {\n",
       "        text-align: right;\n",
       "    }\n",
       "\n",
       "    .dataframe thead th {\n",
       "        text-align: left;\n",
       "    }\n",
       "\n",
       "    .dataframe tbody tr th {\n",
       "        vertical-align: top;\n",
       "    }\n",
       "</style>\n",
       "<table border=\"1\" class=\"dataframe\">\n",
       "  <thead>\n",
       "    <tr style=\"text-align: right;\">\n",
       "      <th></th>\n",
       "      <th>clipid</th>\n",
       "      <th>personid</th>\n",
       "      <th>writesroleid</th>\n",
       "    </tr>\n",
       "  </thead>\n",
       "  <tbody>\n",
       "    <tr>\n",
       "      <th>0</th>\n",
       "      <td>51264</td>\n",
       "      <td>3</td>\n",
       "      <td>0</td>\n",
       "    </tr>\n",
       "    <tr>\n",
       "      <th>1</th>\n",
       "      <td>742507</td>\n",
       "      <td>3</td>\n",
       "      <td>1</td>\n",
       "    </tr>\n",
       "    <tr>\n",
       "      <th>2</th>\n",
       "      <td>960777</td>\n",
       "      <td>3</td>\n",
       "      <td>2</td>\n",
       "    </tr>\n",
       "    <tr>\n",
       "      <th>3</th>\n",
       "      <td>4016759</td>\n",
       "      <td>56</td>\n",
       "      <td>3</td>\n",
       "    </tr>\n",
       "    <tr>\n",
       "      <th>4</th>\n",
       "      <td>338267</td>\n",
       "      <td>61</td>\n",
       "      <td>4</td>\n",
       "    </tr>\n",
       "  </tbody>\n",
       "</table>\n",
       "</div>"
      ],
      "text/plain": [
       "    clipid  personid  writesroleid\n",
       "0    51264         3             0\n",
       "1   742507         3             1\n",
       "2   960777         3             2\n",
       "3  4016759        56             3\n",
       "4   338267        61             4"
      ]
     },
     "execution_count": 32,
     "metadata": {},
     "output_type": "execute_result"
    }
   ],
   "source": [
    "file = file.drop(['addinfo', 'role', 'fullname', 'worktype'], axis=1)\n",
    "file.head()"
   ]
  },
  {
   "cell_type": "code",
   "execution_count": 33,
   "metadata": {},
   "outputs": [
    {
     "data": {
      "text/html": [
       "<div>\n",
       "<style>\n",
       "    .dataframe thead tr:only-child th {\n",
       "        text-align: right;\n",
       "    }\n",
       "\n",
       "    .dataframe thead th {\n",
       "        text-align: left;\n",
       "    }\n",
       "\n",
       "    .dataframe tbody tr th {\n",
       "        vertical-align: top;\n",
       "    }\n",
       "</style>\n",
       "<table border=\"1\" class=\"dataframe\">\n",
       "  <thead>\n",
       "    <tr style=\"text-align: right;\">\n",
       "      <th></th>\n",
       "      <th>personid</th>\n",
       "      <th>clipid</th>\n",
       "      <th>writesroleid</th>\n",
       "    </tr>\n",
       "  </thead>\n",
       "  <tbody>\n",
       "    <tr>\n",
       "      <th>0</th>\n",
       "      <td>3</td>\n",
       "      <td>51264</td>\n",
       "      <td>0</td>\n",
       "    </tr>\n",
       "    <tr>\n",
       "      <th>1</th>\n",
       "      <td>3</td>\n",
       "      <td>742507</td>\n",
       "      <td>1</td>\n",
       "    </tr>\n",
       "    <tr>\n",
       "      <th>2</th>\n",
       "      <td>3</td>\n",
       "      <td>960777</td>\n",
       "      <td>2</td>\n",
       "    </tr>\n",
       "    <tr>\n",
       "      <th>3</th>\n",
       "      <td>56</td>\n",
       "      <td>4016759</td>\n",
       "      <td>3</td>\n",
       "    </tr>\n",
       "    <tr>\n",
       "      <th>4</th>\n",
       "      <td>61</td>\n",
       "      <td>338267</td>\n",
       "      <td>4</td>\n",
       "    </tr>\n",
       "  </tbody>\n",
       "</table>\n",
       "</div>"
      ],
      "text/plain": [
       "   personid   clipid  writesroleid\n",
       "0         3    51264             0\n",
       "1         3   742507             1\n",
       "2         3   960777             2\n",
       "3        56  4016759             3\n",
       "4        61   338267             4"
      ]
     },
     "execution_count": 33,
     "metadata": {},
     "output_type": "execute_result"
    }
   ],
   "source": [
    "file = file[['personid', 'clipid', 'writesroleid']]\n",
    "file.head()"
   ]
  },
  {
   "cell_type": "code",
   "execution_count": 34,
   "metadata": {
    "collapsed": true
   },
   "outputs": [],
   "source": [
    "file.to_csv(\"writes.csv\", index=False, encoding='utf-8')"
   ]
  }
 ],
 "metadata": {
  "kernelspec": {
   "display_name": "Python 3",
   "language": "python",
   "name": "python3"
  },
  "language_info": {
   "codemirror_mode": {
    "name": "ipython",
    "version": 3
   },
   "file_extension": ".py",
   "mimetype": "text/x-python",
   "name": "python",
   "nbconvert_exporter": "python",
   "pygments_lexer": "ipython3",
   "version": "3.6.1"
  }
 },
 "nbformat": 4,
 "nbformat_minor": 2
}
