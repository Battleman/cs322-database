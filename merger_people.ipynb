{
 "cells": [
  {
   "cell_type": "code",
   "execution_count": 2,
   "metadata": {},
   "outputs": [],
   "source": [
    "import csv\n",
    "import unicodecsv as unicsv\n",
    "\n",
    "def add_people():\n",
    "    with open('db2018imdb/actors.csv', newline='', encoding='utf-8') as actCSV, \\\n",
    "    open('db2018imdb/directors.csv', newline='', encoding='utf-8') as dirCSV, \\\n",
    "    open('db2018imdb/producers.csv', newline='', encoding='utf-8') as proCSV, \\\n",
    "    open('db2018imdb/writers.csv', newline='', encoding='utf-8') as wriCSV, \\\n",
    "    open('db2018imdb/merge_people.csv', mode='wb') as dst:\n",
    "        \n",
    "            fieldnames = ['personid', 'fullname']\n",
    "            people = unicsv.writer(dst, delimiter=\",\", quotechar='\"', encoding='utf-8')\n",
    "            \n",
    "            actors = csv.reader(actCSV, delimiter=',', quotechar='\"')\n",
    "            directors = csv.reader(dirCSV, delimiter=',', quotechar='\"')\n",
    "            producers = csv.reader(proCSV, delimiter=',', quotechar='\"')\n",
    "            writers = csv.reader(wriCSV, delimiter=',', quotechar='\"')\n",
    "            \n",
    "            names = []\n",
    "            id = 1\n",
    "            for person in actors:\n",
    "                names.append(person[0])\n",
    "            for person in directors:\n",
    "                names.append(person[0])\n",
    "            for person in producers:\n",
    "                names.append(person[0])\n",
    "            for person in writers:\n",
    "                names.append(person[0])\n",
    "\n",
    "            unique_names = sorted(set(names))\n",
    "            \n",
    "            for name in unique_names:\n",
    "                people.writerow([id, name]) \n",
    "                id = id+1\n",
    "add_people()"
   ]
  }
 ],
 "metadata": {
  "kernelspec": {
   "display_name": "Python 3",
   "language": "python",
   "name": "python3"
  },
  "language_info": {
   "codemirror_mode": {
    "name": "ipython",
    "version": 3
   },
   "file_extension": ".py",
   "mimetype": "text/x-python",
   "name": "python",
   "nbconvert_exporter": "python",
   "pygments_lexer": "ipython3",
   "version": "3.6.4"
  }
 },
 "nbformat": 4,
 "nbformat_minor": 2
}
